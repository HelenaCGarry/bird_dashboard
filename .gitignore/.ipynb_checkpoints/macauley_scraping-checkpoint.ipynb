{
 "cells": [
  {
   "cell_type": "code",
   "execution_count": null,
   "id": "871c1506",
   "metadata": {},
   "outputs": [],
   "source": [
    "import numpy as np\n",
    "import pandas as pd\n"
   ]
  },
  {
   "cell_type": "code",
   "execution_count": null,
   "id": "1f9d5c54",
   "metadata": {},
   "outputs": [],
   "source": [
    "#create a list of distinct SPECIES_CODE\n",
    "\n",
    "#create loop for each SPECIES_CODE \n",
    "\n",
    "    #go to link\n",
    "    \n",
    "    #use beautiful soup to get the first link like \"https://macaulaylibrary.org/asset/424860971\"\n",
    "\n",
    "\n"
   ]
  },
  {
   "cell_type": "code",
   "execution_count": null,
   "id": "7108b303",
   "metadata": {},
   "outputs": [],
   "source": [
    "#map embed link into myeBird_data"
   ]
  },
  {
   "cell_type": "code",
   "execution_count": null,
   "id": "329ca64e",
   "metadata": {},
   "outputs": [],
   "source": [
    "\"https://media.ebird.org/catalog?birdOnly=true&taxonCode=norcar&age=adult&sort=rating_rank_desc&mediaType=photo\"\n",
    "\n",
    "\"https://media.ebird.org/catalog?birdOnly=true&taxonCode=norcar&age=adult&sort=rating_rank_desc&mediaType=photo\"\n",
    "\n",
    "\"https://macaulaylibrary.org/asset/424860971\"\n",
    "\n",
    "\"XPATH = /html/body/div[2]/div/div/div[1]/main/div/div/form/ol/li[1]/div[1]/a[1]\"\n",
    "\n",
    "\"CSS_PATH = .ResultsList > li:nth-child(1) > div:nth-child(1) > a:nth-child(2)\"\n",
    "\n",
    "\"outer_html= <a href=\"https://macaulaylibrary.org/asset/424860971\" target=\"_blank\">ML424860971</a>\"\n",
    "\n",
    "\n",
    "\"<iframe src=\"https://macaulaylibrary.org/asset/424860971/embed\" height=\"367\" width=\"320\" frameborder=\"0\" allowfullscreen></iframe>\""
   ]
  }
 ],
 "metadata": {
  "kernelspec": {
   "display_name": "Python 3 (ipykernel)",
   "language": "python",
   "name": "python3"
  },
  "language_info": {
   "codemirror_mode": {
    "name": "ipython",
    "version": 3
   },
   "file_extension": ".py",
   "mimetype": "text/x-python",
   "name": "python",
   "nbconvert_exporter": "python",
   "pygments_lexer": "ipython3",
   "version": "3.9.13"
  }
 },
 "nbformat": 4,
 "nbformat_minor": 5
}
